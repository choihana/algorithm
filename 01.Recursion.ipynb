{
 "cells": [
  {
   "cell_type": "markdown",
   "metadata": {},
   "source": [
    "### 재귀호출 (Recursion)\n",
    "\n",
    "알고리즘 문제를 풀 때, 복잡한 수식을 생각하기전에 단순하게 모든 경우의 수를 계산해보는 방법이 있다.\n",
    "\n",
    "이를 완전탐색이라고하는데, 이 때 재귀함수를 사용하면 간단하게 해결할 수 있다.\n",
    "\n",
    "### 재귀호출이란?\n",
    "자신이 수행할 작업을 유사한 형태의 **여러 조각으로 쪼갠 뒤 그 중 한 조각을 수행** 하고, 나머지를 자기 자신을 호출해 실행하는 함수\n",
    "\n",
    "### 반복문을 재귀호출 이용하도록 바꿔보자!\n",
    "\n",
    "문제) 1~N까지의 수를 더해주는 함수\n"
   ]
  },
  {
   "cell_type": "code",
   "execution_count": 14,
   "metadata": {},
   "outputs": [],
   "source": [
    "# 1) 반복문 사용\n",
    "def is_sum(N):\n",
    "    sum_num = 0\n",
    "    for i in range(1,N+1):\n",
    "        sum_num += i\n",
    "    return sum_num"
   ]
  },
  {
   "cell_type": "code",
   "execution_count": 12,
   "metadata": {},
   "outputs": [
    {
     "name": "stdout",
     "output_type": "stream",
     "text": [
      "2.07 µs ± 48.2 ns per loop (mean ± std. dev. of 7 runs, 1000000 loops each)\n"
     ]
    }
   ],
   "source": [
    "%%timeit\n",
    "is_sum(20)"
   ]
  },
  {
   "cell_type": "code",
   "execution_count": 13,
   "metadata": {},
   "outputs": [],
   "source": [
    "# 2) 재귀호출 사용\n",
    "def is_sum2(N):\n",
    "    if N == 1:\n",
    "        return 1\n",
    "    return N + is_sum(N-1)"
   ]
  },
  {
   "cell_type": "code",
   "execution_count": 11,
   "metadata": {},
   "outputs": [
    {
     "name": "stdout",
     "output_type": "stream",
     "text": [
      "1.96 µs ± 49 ns per loop (mean ± std. dev. of 7 runs, 1000000 loops each)\n"
     ]
    }
   ],
   "source": [
    "%%timeit\n",
    "is_sum2(20)"
   ]
  },
  {
   "cell_type": "markdown",
   "metadata": {},
   "source": [
    "for 문 사용할 때보다 재귀호출 알고리즘을 사용했을 때 시간을 단축할 수 있었다."
   ]
  },
  {
   "cell_type": "markdown",
   "metadata": {},
   "source": [
    "### 연습문제1. 회문판별하기\n",
    "\n",
    "- 문제 출처:  <a href='https://dojang.io/mod/page/view.php?id=2355'> 코딩도장</a> \n"
   ]
  },
  {
   "cell_type": "code",
   "execution_count": 20,
   "metadata": {},
   "outputs": [],
   "source": [
    "def is_palindrome(word):\n",
    "\n",
    "    if len(word) < 2:\n",
    "        return 1\n",
    "        \n",
    "    if word[0] == word[-1]:\n",
    "        return 1 * is_palindrome(word[1:-1])\n",
    "    else:\n",
    "        return 0"
   ]
  },
  {
   "cell_type": "code",
   "execution_count": 25,
   "metadata": {},
   "outputs": [
    {
     "name": "stdout",
     "output_type": "stream",
     "text": [
      "hana: 회문 아님 tenet: 회문\n"
     ]
    }
   ],
   "source": [
    "hana=\"회문\" if is_palindrome('hana') else \"회문 아님\"\n",
    "tenet = \"회문\" if is_palindrome('tenet') else \"회문아님\"\n",
    "print(f'hana: {hana} tenet: {tenet}')"
   ]
  },
  {
   "cell_type": "markdown",
   "metadata": {},
   "source": [
    "### 연습문제2. 소풍 짝꿍 만들기\n",
    "\n",
    "- 문제 출처: 알고리즘 문제해결전략 1 P155\n",
    "- 문제: 소풍에서 실제 친구인 아이들끼리만 짝을 지어주려고한다. 짝을 만들수 있는 경우의 수는?\n",
    "- 입력\n",
    "\n",
    "1) 학생의 수 n, 친구 쌍의 수 m\n",
    "\n",
    "2) m 개의 정수 쌍으로 서로 친구인 학생의 번호\n",
    "\n",
    "예제 입출력\n",
    "\n",
    "입력\n",
    "\n",
    "1) n = 4 m = 6\n",
    "\n",
    "2) 친구 쌍: 0,1,1,2,2,3,3,0,0,2,1,3\n",
    "\n",
    "출력\n",
    "\n",
    "3\n",
    "\n",
    "[풀이]\n",
    "\n",
    "친구 쌍을 보면 서로 모두 친구임을 알 수 있다.\n",
    "\n",
    "학생: 0,1,2,3\n",
    "\n",
    "친구 쌍: (0,1), (0,2), (0,3) ,(1,2), (1,3), (2,3) -> 6쌍\n",
    "\n",
    "짝 경우의 수: 3가지\n",
    "\n",
    "1. (0,1) , (2,3)\n",
    "2. (0,2) , (1,3)\n",
    "3. (0,3) , (1,2)\n",
    "\n",
    "\n"
   ]
  },
  {
   "cell_type": "code",
   "execution_count": null,
   "metadata": {},
   "outputs": [],
   "source": []
  },
  {
   "cell_type": "code",
   "execution_count": null,
   "metadata": {},
   "outputs": [],
   "source": []
  }
 ],
 "metadata": {
  "kernelspec": {
   "display_name": "Python 3",
   "language": "python",
   "name": "python3"
  },
  "language_info": {
   "codemirror_mode": {
    "name": "ipython",
    "version": 3
   },
   "file_extension": ".py",
   "mimetype": "text/x-python",
   "name": "python",
   "nbconvert_exporter": "python",
   "pygments_lexer": "ipython3",
   "version": "3.8.3"
  }
 },
 "nbformat": 4,
 "nbformat_minor": 4
}
