{
 "cells": [
  {
   "cell_type": "markdown",
   "metadata": {},
   "source": [
    "## K번째 수\n",
    "\n",
    "문제 출처: <a href='https://programmers.co.kr/learn/courses/30/lessons/42748'> 프로그래머스 - K번째 수 </a>\n",
    "\n",
    "### 문제 설명\n",
    "\n",
    "배열 array의 i번째 숫자부터 j번째 숫자까지 자르고 정렬했을 때, k번째에 있는 수를 구합니다. \n",
    "\n",
    "### 입출력 예\n",
    "\n",
    "array\n",
    "[1, 5, 2, 6, 3, 7, 4]\n",
    "\n",
    "commands\n",
    "[[2, 5, 3], [4, 4, 1], [1, 7, 3]]\n",
    "\n",
    "-> 각 원소 [i,j,k] 의미함\n",
    "\n",
    "return\n",
    "[5, 6, 3]"
   ]
  },
  {
   "cell_type": "code",
   "execution_count": 10,
   "metadata": {},
   "outputs": [],
   "source": [
    "def solution(array, commands):\n",
    "    answer = []\n",
    "    #commands list 순회하면서 answer 리스트에 k번째 수 추가\n",
    "    #commands의 각 원소는 길이가 3으로 고정되어 있기때문에 0,1,2라고 직접 명시해서 사용\n",
    "    for i in commands:\n",
    "        #각 원소에서 i~j까지 짜른 후, sort()함수로 정렬해준 뒤, k 번째 고른다.\n",
    "        answer.append(sorted(array[i[0]-1:i[1]])[i[2]-1])\n",
    "    return answer"
   ]
  },
  {
   "cell_type": "code",
   "execution_count": 11,
   "metadata": {},
   "outputs": [
    {
     "data": {
      "text/plain": [
       "[5, 6, 3]"
      ]
     },
     "execution_count": 11,
     "metadata": {},
     "output_type": "execute_result"
    }
   ],
   "source": [
    "in_array= [1, 5, 2, 6, 3, 7, 4]\n",
    "in_commands=[[2, 5, 3], [4, 4, 1], [1, 7, 3]]\n",
    "solution(in_array,in_commands)"
   ]
  },
  {
   "cell_type": "code",
   "execution_count": null,
   "metadata": {},
   "outputs": [],
   "source": []
  }
 ],
 "metadata": {
  "kernelspec": {
   "display_name": "Python 3",
   "language": "python",
   "name": "python3"
  },
  "language_info": {
   "codemirror_mode": {
    "name": "ipython",
    "version": 3
   },
   "file_extension": ".py",
   "mimetype": "text/x-python",
   "name": "python",
   "nbconvert_exporter": "python",
   "pygments_lexer": "ipython3",
   "version": "3.8.3"
  }
 },
 "nbformat": 4,
 "nbformat_minor": 4
}
